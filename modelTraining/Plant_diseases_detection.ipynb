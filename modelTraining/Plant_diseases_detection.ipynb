{
  "cells": [
    {
      "cell_type": "code",
      "execution_count": 64,
      "metadata": {
        "id": "gt0eNdVxrD4a",
        "colab": {
          "base_uri": "https://localhost:8080/"
        },
        "outputId": "0f4ee0e4-ade4-4300-8a59-d0b5f9ebe2e0"
      },
      "outputs": [
        {
          "output_type": "stream",
          "name": "stdout",
          "text": [
            "Looking in indexes: https://pypi.org/simple, https://us-python.pkg.dev/colab-wheels/public/simple/\n",
            "Requirement already satisfied: kaggle in /usr/local/lib/python3.7/dist-packages (1.5.12)\n",
            "Requirement already satisfied: python-dateutil in /usr/local/lib/python3.7/dist-packages (from kaggle) (2.8.2)\n",
            "Requirement already satisfied: tqdm in /usr/local/lib/python3.7/dist-packages (from kaggle) (4.64.0)\n",
            "Requirement already satisfied: six>=1.10 in /usr/local/lib/python3.7/dist-packages (from kaggle) (1.15.0)\n",
            "Requirement already satisfied: python-slugify in /usr/local/lib/python3.7/dist-packages (from kaggle) (6.1.2)\n",
            "Requirement already satisfied: certifi in /usr/local/lib/python3.7/dist-packages (from kaggle) (2022.6.15)\n",
            "Requirement already satisfied: urllib3 in /usr/local/lib/python3.7/dist-packages (from kaggle) (1.24.3)\n",
            "Requirement already satisfied: requests in /usr/local/lib/python3.7/dist-packages (from kaggle) (2.23.0)\n",
            "Requirement already satisfied: text-unidecode>=1.3 in /usr/local/lib/python3.7/dist-packages (from python-slugify->kaggle) (1.3)\n",
            "Requirement already satisfied: chardet<4,>=3.0.2 in /usr/local/lib/python3.7/dist-packages (from requests->kaggle) (3.0.4)\n",
            "Requirement already satisfied: idna<3,>=2.5 in /usr/local/lib/python3.7/dist-packages (from requests->kaggle) (2.10)\n"
          ]
        }
      ],
      "source": [
        "!pip install kaggle"
      ]
    },
    {
      "cell_type": "code",
      "execution_count": 65,
      "metadata": {
        "id": "3hekMjOujfcP",
        "colab": {
          "base_uri": "https://localhost:8080/"
        },
        "outputId": "0e1cda7b-212b-4d59-9d8f-b257f6c71fc6"
      },
      "outputs": [
        {
          "output_type": "stream",
          "name": "stdout",
          "text": [
            "mkdir: cannot create directory ‘/root/.kaggle’: File exists\n"
          ]
        }
      ],
      "source": [
        "! mkdir ~/.kaggle\n"
      ]
    },
    {
      "cell_type": "code",
      "execution_count": 66,
      "metadata": {
        "id": "9L_nN8a4jopz"
      },
      "outputs": [],
      "source": [
        "! cp kaggle.json ~/.kaggle/"
      ]
    },
    {
      "cell_type": "code",
      "execution_count": 67,
      "metadata": {
        "id": "m9qgKwoTjrQz"
      },
      "outputs": [],
      "source": [
        "! chmod 600 ~/.kaggle/kaggle.json"
      ]
    },
    {
      "cell_type": "code",
      "execution_count": 68,
      "metadata": {
        "id": "APFEM4H3j3UV",
        "colab": {
          "base_uri": "https://localhost:8080/"
        },
        "outputId": "fa6d56f1-540d-4221-f867-1fe6a3acba4a"
      },
      "outputs": [
        {
          "output_type": "stream",
          "name": "stdout",
          "text": [
            "new-plant-diseases-dataset.zip: Skipping, found more recently modified local copy (use --force to force download)\n"
          ]
        }
      ],
      "source": [
        "! kaggle datasets download vipoooool/new-plant-diseases-dataset"
      ]
    },
    {
      "cell_type": "code",
      "execution_count": 69,
      "metadata": {
        "id": "eONGgybuQhxh",
        "colab": {
          "base_uri": "https://localhost:8080/"
        },
        "outputId": "cf8de106-d7e8-4614-97b9-f0d61ca42928"
      },
      "outputs": [
        {
          "output_type": "stream",
          "name": "stdout",
          "text": [
            "unzip:  cannot find or open new plant diseases dataset(augmented), new plant diseases dataset(augmented).zip or new plant diseases dataset(augmented).ZIP.\n"
          ]
        }
      ],
      "source": [
        "!unzip new*"
      ]
    },
    {
      "cell_type": "code",
      "execution_count": 70,
      "metadata": {
        "id": "qAZhd3QLR51v"
      },
      "outputs": [],
      "source": [
        "import numpy as np\n",
        "import pandas as pd\n",
        "import matplotlib.pyplot as plt\n",
        "import os\n",
        "\n",
        "import keras\n",
        "from keras.preprocessing.image import ImageDataGenerator, load_img, img_to_array\n",
        "from keras.applications.vgg16 import VGG16, preprocess_input, decode_predictions"
      ]
    },
    {
      "cell_type": "code",
      "execution_count": 71,
      "metadata": {
        "id": "-ooMnyYPSmWq",
        "colab": {
          "base_uri": "https://localhost:8080/"
        },
        "outputId": "b5ff14b1-ece8-4ad6-89e5-9a8ed1732bc5"
      },
      "outputs": [
        {
          "output_type": "execute_result",
          "data": {
            "text/plain": [
              "38"
            ]
          },
          "metadata": {},
          "execution_count": 71
        }
      ],
      "source": [
        "len(os.listdir(\"/content/new plant diseases dataset(augmented)/New Plant Diseases Dataset(Augmented)/train\"))"
      ]
    },
    {
      "cell_type": "code",
      "execution_count": 72,
      "metadata": {
        "id": "26cXO3UUTbqw"
      },
      "outputs": [],
      "source": [
        "train_datagen = ImageDataGenerator(zoom_range=0.5, shear_range=0.3, horizontal_flip=True, preprocessing_function=preprocess_input)\n",
        "val_datagen = ImageDataGenerator(preprocessing_function=preprocess_input)"
      ]
    },
    {
      "cell_type": "code",
      "execution_count": 73,
      "metadata": {
        "id": "o-gYvYKHT6mW",
        "colab": {
          "base_uri": "https://localhost:8080/"
        },
        "outputId": "804ddfa7-b952-4690-e056-fa212f818aca"
      },
      "outputs": [
        {
          "output_type": "stream",
          "name": "stdout",
          "text": [
            "Found 70295 images belonging to 38 classes.\n",
            "Found 17572 images belonging to 38 classes.\n"
          ]
        }
      ],
      "source": [
        "train = train_datagen.flow_from_directory(directory=\"/content/new plant diseases dataset(augmented)/New Plant Diseases Dataset(Augmented)/train\", target_size=(256,256), batch_size=32)\n",
        "\n",
        "val = val_datagen.flow_from_directory(directory=\"/content/new plant diseases dataset(augmented)/New Plant Diseases Dataset(Augmented)/valid\", target_size=(256,256), batch_size=32)"
      ]
    },
    {
      "cell_type": "markdown",
      "metadata": {
        "id": "Q3h8VGHQVyVS"
      },
      "source": [
        "MODEL BUILDING"
      ]
    },
    {
      "cell_type": "code",
      "execution_count": 74,
      "metadata": {
        "id": "RFNzyCOJV0yf"
      },
      "outputs": [],
      "source": [
        "from keras.layers import Dense, Flatten\n",
        "from keras.models import Model\n",
        "import keras\n",
        "from keras.applications.vgg16 import VGG16, preprocess_input, decode_predictions"
      ]
    },
    {
      "cell_type": "code",
      "execution_count": 75,
      "metadata": {
        "id": "qolGxjI5WNxr",
        "colab": {
          "base_uri": "https://localhost:8080/"
        },
        "outputId": "b2a14f9e-1c6d-477e-df07-300c6419ce2c"
      },
      "outputs": [
        {
          "output_type": "stream",
          "name": "stdout",
          "text": [
            "Downloading data from https://storage.googleapis.com/tensorflow/keras-applications/vgg16/vgg16_weights_tf_dim_ordering_tf_kernels_notop.h5\n",
            "58892288/58889256 [==============================] - 1s 0us/step\n",
            "58900480/58889256 [==============================] - 1s 0us/step\n"
          ]
        }
      ],
      "source": [
        "base_model = VGG16(input_shape=(256, 256, 3), include_top=False)"
      ]
    },
    {
      "cell_type": "code",
      "execution_count": 76,
      "metadata": {
        "id": "NeWfi8U5WaYq"
      },
      "outputs": [],
      "source": [
        "for layer in base_model.layers:\n",
        "  layer.trainable=False"
      ]
    },
    {
      "cell_type": "code",
      "execution_count": 77,
      "metadata": {
        "id": "ezDVMM9NW4F5"
      },
      "outputs": [],
      "source": [
        "X = Flatten()(base_model.output)\n",
        "\n",
        "X = Dense(units=38, activation='softmax')(X)\n",
        "\n",
        "model = Model(base_model.input, X)"
      ]
    },
    {
      "cell_type": "code",
      "execution_count": 78,
      "metadata": {
        "id": "eIJMX_l9YAUz",
        "colab": {
          "base_uri": "https://localhost:8080/"
        },
        "outputId": "8cc9b94a-8da3-47d4-e3a3-1c77433a80f4"
      },
      "outputs": [
        {
          "output_type": "stream",
          "name": "stdout",
          "text": [
            "Model: \"model_2\"\n",
            "_________________________________________________________________\n",
            " Layer (type)                Output Shape              Param #   \n",
            "=================================================================\n",
            " input_3 (InputLayer)        [(None, 256, 256, 3)]     0         \n",
            "                                                                 \n",
            " block1_conv1 (Conv2D)       (None, 256, 256, 64)      1792      \n",
            "                                                                 \n",
            " block1_conv2 (Conv2D)       (None, 256, 256, 64)      36928     \n",
            "                                                                 \n",
            " block1_pool (MaxPooling2D)  (None, 128, 128, 64)      0         \n",
            "                                                                 \n",
            " block2_conv1 (Conv2D)       (None, 128, 128, 128)     73856     \n",
            "                                                                 \n",
            " block2_conv2 (Conv2D)       (None, 128, 128, 128)     147584    \n",
            "                                                                 \n",
            " block2_pool (MaxPooling2D)  (None, 64, 64, 128)       0         \n",
            "                                                                 \n",
            " block3_conv1 (Conv2D)       (None, 64, 64, 256)       295168    \n",
            "                                                                 \n",
            " block3_conv2 (Conv2D)       (None, 64, 64, 256)       590080    \n",
            "                                                                 \n",
            " block3_conv3 (Conv2D)       (None, 64, 64, 256)       590080    \n",
            "                                                                 \n",
            " block3_pool (MaxPooling2D)  (None, 32, 32, 256)       0         \n",
            "                                                                 \n",
            " block4_conv1 (Conv2D)       (None, 32, 32, 512)       1180160   \n",
            "                                                                 \n",
            " block4_conv2 (Conv2D)       (None, 32, 32, 512)       2359808   \n",
            "                                                                 \n",
            " block4_conv3 (Conv2D)       (None, 32, 32, 512)       2359808   \n",
            "                                                                 \n",
            " block4_pool (MaxPooling2D)  (None, 16, 16, 512)       0         \n",
            "                                                                 \n",
            " block5_conv1 (Conv2D)       (None, 16, 16, 512)       2359808   \n",
            "                                                                 \n",
            " block5_conv2 (Conv2D)       (None, 16, 16, 512)       2359808   \n",
            "                                                                 \n",
            " block5_conv3 (Conv2D)       (None, 16, 16, 512)       2359808   \n",
            "                                                                 \n",
            " block5_pool (MaxPooling2D)  (None, 8, 8, 512)         0         \n",
            "                                                                 \n",
            " flatten_2 (Flatten)         (None, 32768)             0         \n",
            "                                                                 \n",
            " dense_2 (Dense)             (None, 38)                1245222   \n",
            "                                                                 \n",
            "=================================================================\n",
            "Total params: 15,959,910\n",
            "Trainable params: 1,245,222\n",
            "Non-trainable params: 14,714,688\n",
            "_________________________________________________________________\n"
          ]
        }
      ],
      "source": [
        "model.summary()"
      ]
    },
    {
      "cell_type": "code",
      "execution_count": 79,
      "metadata": {
        "id": "jxgrHI2kZlgb"
      },
      "outputs": [],
      "source": [
        "model.compile(optimizer='adam', loss = keras.losses.categorical_crossentropy, metrics=['accuracy'])"
      ]
    },
    {
      "cell_type": "code",
      "execution_count": 80,
      "metadata": {
        "id": "do6b8hLtYCi5"
      },
      "outputs": [],
      "source": [
        "#early stopping and model checkpoint\n",
        "\n",
        "from keras.callbacks import ModelCheckpoint, EarlyStopping\n",
        "\n",
        "#early stopping\n",
        "es = EarlyStopping(monitor = 'val_accuracy', min_delta = 0.01, patience = 3, verbose = 1)\n",
        "\n",
        "#model checkpoint\n",
        "mc = ModelCheckpoint(filepath = \"best_model.h5\", min_delta = 0.01, patience = 3, verbose = 1, save_best_onlu = True)\n",
        "\n",
        "cb = [es, mc]"
      ]
    },
    {
      "cell_type": "code",
      "execution_count": 81,
      "metadata": {
        "id": "uUG4_DfOZJyb",
        "colab": {
          "base_uri": "https://localhost:8080/"
        },
        "outputId": "7b9241ff-84b4-460e-9036-d664322e3920"
      },
      "outputs": [
        {
          "output_type": "stream",
          "name": "stderr",
          "text": [
            "/usr/local/lib/python3.7/dist-packages/ipykernel_launcher.py:1: UserWarning: `Model.fit_generator` is deprecated and will be removed in a future version. Please use `Model.fit`, which supports generators.\n",
            "  \"\"\"Entry point for launching an IPython kernel.\n"
          ]
        },
        {
          "output_type": "stream",
          "name": "stdout",
          "text": [
            "Epoch 1/50\n",
            "16/16 [==============================] - ETA: 0s - loss: 28.7663 - accuracy: 0.1680\n",
            "Epoch 1: saving model to best_model.h5\n",
            "16/16 [==============================] - 18s 1s/step - loss: 28.7663 - accuracy: 0.1680 - val_loss: 20.7280 - val_accuracy: 0.3457\n",
            "Epoch 2/50\n",
            "16/16 [==============================] - ETA: 0s - loss: 15.7329 - accuracy: 0.4375\n",
            "Epoch 2: saving model to best_model.h5\n",
            "16/16 [==============================] - 12s 762ms/step - loss: 15.7329 - accuracy: 0.4375 - val_loss: 9.3191 - val_accuracy: 0.6094\n",
            "Epoch 3/50\n",
            "16/16 [==============================] - ETA: 0s - loss: 12.4341 - accuracy: 0.5273\n",
            "Epoch 3: saving model to best_model.h5\n",
            "16/16 [==============================] - 12s 757ms/step - loss: 12.4341 - accuracy: 0.5273 - val_loss: 7.2141 - val_accuracy: 0.6836\n",
            "Epoch 4/50\n",
            "16/16 [==============================] - ETA: 0s - loss: 11.0908 - accuracy: 0.6035\n",
            "Epoch 4: saving model to best_model.h5\n",
            "16/16 [==============================] - 12s 754ms/step - loss: 11.0908 - accuracy: 0.6035 - val_loss: 10.4432 - val_accuracy: 0.5781\n",
            "Epoch 5/50\n",
            "16/16 [==============================] - ETA: 0s - loss: 10.2326 - accuracy: 0.6211\n",
            "Epoch 5: saving model to best_model.h5\n",
            "16/16 [==============================] - 13s 782ms/step - loss: 10.2326 - accuracy: 0.6211 - val_loss: 7.3374 - val_accuracy: 0.7051\n",
            "Epoch 6/50\n",
            "16/16 [==============================] - ETA: 0s - loss: 9.4031 - accuracy: 0.6602\n",
            "Epoch 6: saving model to best_model.h5\n",
            "16/16 [==============================] - 12s 769ms/step - loss: 9.4031 - accuracy: 0.6602 - val_loss: 8.5671 - val_accuracy: 0.6777\n",
            "Epoch 7/50\n",
            "16/16 [==============================] - ETA: 0s - loss: 7.9323 - accuracy: 0.7109\n",
            "Epoch 7: saving model to best_model.h5\n",
            "16/16 [==============================] - 12s 759ms/step - loss: 7.9323 - accuracy: 0.7109 - val_loss: 5.6439 - val_accuracy: 0.7441\n",
            "Epoch 8/50\n",
            "16/16 [==============================] - ETA: 0s - loss: 8.5623 - accuracy: 0.6719\n",
            "Epoch 8: saving model to best_model.h5\n",
            "16/16 [==============================] - 12s 754ms/step - loss: 8.5623 - accuracy: 0.6719 - val_loss: 5.4043 - val_accuracy: 0.7852\n",
            "Epoch 9/50\n",
            "16/16 [==============================] - ETA: 0s - loss: 7.2573 - accuracy: 0.6914\n",
            "Epoch 9: saving model to best_model.h5\n",
            "16/16 [==============================] - 12s 764ms/step - loss: 7.2573 - accuracy: 0.6914 - val_loss: 4.9613 - val_accuracy: 0.8008\n",
            "Epoch 10/50\n",
            "16/16 [==============================] - ETA: 0s - loss: 8.2275 - accuracy: 0.7266\n",
            "Epoch 10: saving model to best_model.h5\n",
            "16/16 [==============================] - 12s 752ms/step - loss: 8.2275 - accuracy: 0.7266 - val_loss: 7.3631 - val_accuracy: 0.7832\n",
            "Epoch 11/50\n",
            "16/16 [==============================] - ETA: 0s - loss: 8.9452 - accuracy: 0.7148\n",
            "Epoch 11: saving model to best_model.h5\n",
            "16/16 [==============================] - 12s 760ms/step - loss: 8.9452 - accuracy: 0.7148 - val_loss: 7.9937 - val_accuracy: 0.7676\n",
            "Epoch 12/50\n",
            "16/16 [==============================] - ETA: 0s - loss: 9.1959 - accuracy: 0.7344\n",
            "Epoch 12: saving model to best_model.h5\n",
            "16/16 [==============================] - 12s 749ms/step - loss: 9.1959 - accuracy: 0.7344 - val_loss: 6.1162 - val_accuracy: 0.8027\n",
            "Epoch 12: early stopping\n"
          ]
        }
      ],
      "source": [
        "his = model.fit_generator(train, steps_per_epoch=16, epochs = 50, verbose = 1, callbacks = cb, validation_data=val, validation_steps=16)"
      ]
    },
    {
      "cell_type": "code",
      "execution_count": 82,
      "metadata": {
        "id": "ZeE9bfw9aeTC",
        "colab": {
          "base_uri": "https://localhost:8080/"
        },
        "outputId": "5bce3f18-bba3-4c6a-8a29-cd6669e218fc"
      },
      "outputs": [
        {
          "output_type": "execute_result",
          "data": {
            "text/plain": [
              "dict_keys(['loss', 'accuracy', 'val_loss', 'val_accuracy'])"
            ]
          },
          "metadata": {},
          "execution_count": 82
        }
      ],
      "source": [
        "h = his.history\n",
        "h.keys()"
      ]
    },
    {
      "cell_type": "code",
      "execution_count": 83,
      "metadata": {
        "id": "dBTMo94hakgw",
        "colab": {
          "base_uri": "https://localhost:8080/",
          "height": 281
        },
        "outputId": "e3a84134-b565-48ea-d87e-c759f736995f"
      },
      "outputs": [
        {
          "output_type": "display_data",
          "data": {
            "text/plain": [
              "<Figure size 432x288 with 1 Axes>"
            ],
            "image/png": "[encoded data removed]"
          },
          "metadata": {
            "needs_background": "light"
          }
        }
      ],
      "source": [
        "plt.plot(h['accuracy'])\n",
        "plt.plot(h['val_accuracy'], c = \"red\")\n",
        "plt.title(\"acc vs val_acc\")\n",
        "plt.show()"
      ]
    },
    {
      "cell_type": "code",
      "execution_count": 84,
      "metadata": {
        "id": "QdoK57JsbJzl",
        "colab": {
          "base_uri": "https://localhost:8080/",
          "height": 281
        },
        "outputId": "e049de9a-2900-48ec-9755-e1b347c9da1f"
      },
      "outputs": [
        {
          "output_type": "display_data",
          "data": {
            "text/plain": [
              "<Figure size 432x288 with 1 Axes>"
            ],
            "image/png": "[encoded data removed]"
          },
          "metadata": {
            "needs_background": "light"
          }
        }
      ],
      "source": [
        "plt.plot(h['loss'])\n",
        "plt.plot(h['val_loss'], c = \"red\")\n",
        "plt.title(\"loss vs val_loss\")\n",
        "plt.show()"
      ]
    },
    {
      "cell_type": "code",
      "execution_count": 85,
      "metadata": {
        "id": "7iWQ35v_bTyS"
      },
      "outputs": [],
      "source": [
        "#load best model\n",
        "\n",
        "from keras.models import load_model\n",
        "\n",
        "model = load_model(\"/content/best_model.h5\")"
      ]
    },
    {
      "cell_type": "code",
      "execution_count": 86,
      "metadata": {
        "id": "oOpIaCsdbhEK",
        "colab": {
          "base_uri": "https://localhost:8080/"
        },
        "outputId": "34d79b30-d064-498a-c9e6-4a87f376b0c6"
      },
      "outputs": [
        {
          "output_type": "stream",
          "name": "stderr",
          "text": [
            "/usr/local/lib/python3.7/dist-packages/ipykernel_launcher.py:1: UserWarning: `Model.evaluate_generator` is deprecated and will be removed in a future version. Please use `Model.evaluate`, which supports generators.\n",
            "  \"\"\"Entry point for launching an IPython kernel.\n"
          ]
        },
        {
          "output_type": "stream",
          "name": "stdout",
          "text": [
            "The accuracy of your model is = 79.34213280677795 %\n"
          ]
        }
      ],
      "source": [
        "acc = model.evaluate_generator(val)[1]\n",
        "\n",
        "print(f\"The accuracy of your model is = {acc*100} %\")"
      ]
    },
    {
      "cell_type": "code",
      "execution_count": 87,
      "metadata": {
        "id": "HP45PSx4f3Bv"
      },
      "outputs": [],
      "source": [
        "ref = dict(zip( list(train.class_indices.values()), list(train.class_indices.keys())) )"
      ]
    },
    {
      "cell_type": "code",
      "execution_count": 88,
      "metadata": {
        "id": "4haND8jUcGzM"
      },
      "outputs": [],
      "source": [
        "def prediction(path):\n",
        "\n",
        "  img = load_img(path, target_size = (256,256))\n",
        "  plt.imshow(img)\n",
        "\n",
        "  i = img_to_array(img)\n",
        "\n",
        "  im = preprocess_input(i)\n",
        "\n",
        "  img = np.expand_dims(im, axis = 0)\n",
        "\n",
        "  pred = np.argmax(model.predict(img))\n",
        "\n",
        "  print(f\" the image belongs to { ref[pred] } \")"
      ]
    },
    {
      "cell_type": "code",
      "execution_count": 97,
      "metadata": {
        "id": "ebG8E_kkcvMp",
        "colab": {
          "base_uri": "https://localhost:8080/",
          "height": 286
        },
        "outputId": "1f31b3cf-009a-4691-d64f-6e14e2e1c868"
      },
      "outputs": [
        {
          "output_type": "stream",
          "name": "stdout",
          "text": [
            " the image belongs to Apple___Cedar_apple_rust \n"
          ]
        },
        {
          "output_type": "display_data",
          "data": {
            "text/plain": [
              "<Figure size 432x288 with 1 Axes>"
            ],
            "image/png": "[encoded data removed]"
          },
          "metadata": {
            "needs_background": "light"
          }
        }
      ],
      "source": [
        "path = \"/content/test/test/AppleCedarRust1.JPG\"\n",
        "\n",
        "prediction(path)"
      ]
    }
  ],
  "metadata": {
    "accelerator": "GPU",
    "colab": {
      "collapsed_sections": [],
      "name": "Plant_diseases_detection.ipynb",
      "provenance": []
    },
    "kernelspec": {
      "display_name": "Python 3",
      "name": "python3"
    },
    "language_info": {
      "name": "python",
      "version": "3.9.2"
    }
  },
  "nbformat": 4,
  "nbformat_minor": 0
}